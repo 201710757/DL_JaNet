{
 "cells": [
  {
   "cell_type": "code",
   "execution_count": null,
   "id": "9296d122",
   "metadata": {},
   "outputs": [],
   "source": [
    "from facenet_pytorch import MTCNN, InceptionResnetV1\n",
    "import torch\n",
    "import numpy as np\n",
    "from PIL import Image, ImageDraw\n",
    "from IPython import display\n",
    "import torchvision.transforms as transforms\n",
    "import cv2\n",
    "\n",
    "device = torch.device('cuda:0' if torch.cuda.is_available() else 'cpu')\n",
    "print('Running on device: {}'.format(device))\n",
    "\n",
    "mtcnn = MTCNN(device=device)\n",
    "model = InceptionResnetV1(pretrained='vggface2').eval()\n",
    "\n",
    "# img = Image.open('sample.jpg')\n",
    "# img_cropped = mtcnn(img)\n",
    "\n",
    "model.classify = True\n",
    "# img_probs = model(img_cropped.unsqueeze(0))\n",
    "# print(img_probs)\n",
    "\n",
    "emb = []\n",
    "def get_embedding(filename):\n",
    "    img = Image.open(filename)\n",
    "    img_cropped = mtcnn(img)\n",
    "    \n",
    "    model.classify = True\n",
    "    img_probs = model(img_cropped.unsqueeze(0))\n",
    "    \n",
    "    return img_probs[0].detach().numpy()\n",
    "\n",
    "\n"
   ]
  },
  {
   "cell_type": "code",
   "execution_count": null,
   "id": "521fdb52",
   "metadata": {
    "scrolled": true
   },
   "outputs": [
    {
     "name": "stdout",
     "output_type": "stream",
     "text": [
      "['NaMoonhee', 'Trump', 'LeeYoungji', 'Kendrick', 'LeeGyeongyeong']\n",
      "['nmh9.jpg', 'nada3.jpeg', 'nada1.jpeg', 'nmh13.jpeg', 'nmh4.jpg', 'nmh10.jpg', 'nmh3.jpg', 'nmh16.jpeg', 'nmh5.jpg', 'nmh.jpg', 'nada2.jpeg', 'nmh12.jpeg', 'nmh11.jpeg', 'nmh14.jpeg', 'nmh6.jpg', 'nmh1.jpg', 'nmh7.jpg', 'nmh2.jpg', 'nada5.jpeg', 'nmh8.jpg']\n",
      "Embedding : ./data/train/NaMoonhee/nmh9.jpg\n",
      "EMB :  [-1.2609149  0.9885293  1.3122206 ... -1.0779772  1.1560268  2.5903015]\n",
      "Embedding : ./data/train/NaMoonhee/nada3.jpeg\n",
      "EMB :  [ 0.26583305  1.6357908   1.227527   ... -0.7356503   0.8100869\n",
      "  1.4343365 ]\n",
      "Embedding : ./data/train/NaMoonhee/nada1.jpeg\n",
      "EMB :  [ 1.1267537  2.6670702  1.1257392 ... -0.5521679  1.2919297  4.0000496]\n",
      "Embedding : ./data/train/NaMoonhee/nmh13.jpeg\n",
      "EMB :  [0.62682426 3.204233   2.4959753  ... 0.74526215 1.2026322  3.601916  ]\n",
      "Embedding : ./data/train/NaMoonhee/nmh4.jpg\n",
      "EMB :  [ 0.24926004  1.7273276   1.0925996  ... -0.14477953  2.8855755\n",
      "  4.61887   ]\n",
      "Embedding : ./data/train/NaMoonhee/nmh10.jpg\n",
      "EMB :  [-0.41704467  2.0555015   0.80279386 ...  0.31351352  4.3035336\n",
      "  5.5123057 ]\n",
      "Embedding : ./data/train/NaMoonhee/nmh3.jpg\n",
      "EMB :  [-2.2034543   0.9214498   0.6975094  ...  0.45133892  1.3816288\n",
      "  2.1976995 ]\n",
      "Embedding : ./data/train/NaMoonhee/nmh16.jpeg\n",
      "EMB :  [-0.5114562  -0.13365094 -0.52030545 ... -1.3857629   0.69649565\n",
      "  2.655233  ]\n",
      "Embedding : ./data/train/NaMoonhee/nmh5.jpg\n"
     ]
    }
   ],
   "source": [
    "import os\n",
    "embs = []\n",
    "labels = []\n",
    "\n",
    "path = \"./data/train\"\n",
    "folder_list = os.listdir(path)\n",
    "print(folder_list)\n",
    "\n",
    "for i in folder_list:\n",
    "    if i == \".DS_Store\":\n",
    "        continue\n",
    "    _path = path + \"/\" + i\n",
    "    file_list = os.listdir(_path)\n",
    "    print(file_list)\n",
    "    for _file in file_list:\n",
    "        if _file == \".DS_Store\":\n",
    "            continue\n",
    "        print(\"Embedding : {}\".format(_path+\"/\"+_file))\n",
    "        \n",
    "        embs.append(get_embedding(_path+\"/\"+_file))\n",
    "        labels.append(i)\n",
    "\n"
   ]
  },
  {
   "cell_type": "code",
   "execution_count": null,
   "id": "457e40e0",
   "metadata": {},
   "outputs": [],
   "source": []
  },
  {
   "cell_type": "code",
   "execution_count": null,
   "id": "79840b56",
   "metadata": {},
   "outputs": [],
   "source": []
  },
  {
   "cell_type": "code",
   "execution_count": null,
   "id": "987d5fea",
   "metadata": {},
   "outputs": [],
   "source": []
  },
  {
   "cell_type": "code",
   "execution_count": null,
   "id": "74c731b6",
   "metadata": {},
   "outputs": [],
   "source": []
  },
  {
   "cell_type": "code",
   "execution_count": null,
   "id": "4243577d",
   "metadata": {},
   "outputs": [],
   "source": []
  },
  {
   "cell_type": "code",
   "execution_count": null,
   "id": "60065403",
   "metadata": {},
   "outputs": [],
   "source": []
  },
  {
   "cell_type": "code",
   "execution_count": null,
   "id": "267a983f",
   "metadata": {},
   "outputs": [],
   "source": []
  },
  {
   "cell_type": "code",
   "execution_count": null,
   "id": "501ba492",
   "metadata": {},
   "outputs": [],
   "source": []
  },
  {
   "cell_type": "code",
   "execution_count": null,
   "id": "7fe3d498",
   "metadata": {},
   "outputs": [],
   "source": []
  },
  {
   "cell_type": "code",
   "execution_count": null,
   "id": "32623571",
   "metadata": {},
   "outputs": [],
   "source": []
  },
  {
   "cell_type": "code",
   "execution_count": null,
   "id": "afa50b3e",
   "metadata": {},
   "outputs": [],
   "source": []
  },
  {
   "cell_type": "code",
   "execution_count": null,
   "id": "1995b3c4",
   "metadata": {},
   "outputs": [],
   "source": []
  },
  {
   "cell_type": "code",
   "execution_count": null,
   "id": "a75ea311",
   "metadata": {},
   "outputs": [],
   "source": []
  },
  {
   "cell_type": "code",
   "execution_count": null,
   "id": "eba4082d",
   "metadata": {},
   "outputs": [],
   "source": []
  },
  {
   "cell_type": "code",
   "execution_count": null,
   "id": "e89f25a2",
   "metadata": {},
   "outputs": [],
   "source": []
  },
  {
   "cell_type": "code",
   "execution_count": null,
   "id": "4384e1fe",
   "metadata": {},
   "outputs": [],
   "source": []
  },
  {
   "cell_type": "code",
   "execution_count": null,
   "id": "3ab4463b",
   "metadata": {},
   "outputs": [],
   "source": []
  },
  {
   "cell_type": "code",
   "execution_count": null,
   "id": "2d27d380",
   "metadata": {},
   "outputs": [],
   "source": []
  },
  {
   "cell_type": "code",
   "execution_count": null,
   "id": "abcb674a",
   "metadata": {},
   "outputs": [],
   "source": []
  },
  {
   "cell_type": "code",
   "execution_count": null,
   "id": "c0247dc3",
   "metadata": {},
   "outputs": [],
   "source": []
  },
  {
   "cell_type": "code",
   "execution_count": null,
   "id": "dad362cb",
   "metadata": {},
   "outputs": [],
   "source": []
  },
  {
   "cell_type": "code",
   "execution_count": null,
   "id": "faf2ec9e",
   "metadata": {},
   "outputs": [],
   "source": []
  },
  {
   "cell_type": "code",
   "execution_count": null,
   "id": "b8d3a78e",
   "metadata": {},
   "outputs": [],
   "source": []
  },
  {
   "cell_type": "code",
   "execution_count": null,
   "id": "1a5254da",
   "metadata": {},
   "outputs": [],
   "source": [
    "# img = Image.open('mtcnn_facenet/test.jpg')\n",
    "get_embedding('mtcnn_facenet/test.jpg')"
   ]
  },
  {
   "cell_type": "code",
   "execution_count": null,
   "id": "58639eba",
   "metadata": {},
   "outputs": [],
   "source": [
    "t = np.array([])"
   ]
  },
  {
   "cell_type": "code",
   "execution_count": null,
   "id": "ad6b5f26",
   "metadata": {},
   "outputs": [],
   "source": [
    "t = np.append(t, 1)\n",
    "t = np.append(t, 2)"
   ]
  },
  {
   "cell_type": "code",
   "execution_count": null,
   "id": "986c32a1",
   "metadata": {},
   "outputs": [],
   "source": [
    "t"
   ]
  },
  {
   "cell_type": "code",
   "execution_count": null,
   "id": "86b3bf53",
   "metadata": {},
   "outputs": [],
   "source": []
  }
 ],
 "metadata": {
  "kernelspec": {
   "display_name": "Python 3",
   "language": "python",
   "name": "python3"
  },
  "language_info": {
   "codemirror_mode": {
    "name": "ipython",
    "version": 3
   },
   "file_extension": ".py",
   "mimetype": "text/x-python",
   "name": "python",
   "nbconvert_exporter": "python",
   "pygments_lexer": "ipython3",
   "version": "3.8.5"
  }
 },
 "nbformat": 4,
 "nbformat_minor": 5
}
