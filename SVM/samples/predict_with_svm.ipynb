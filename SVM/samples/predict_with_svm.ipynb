{
 "cells": [
  {
   "cell_type": "code",
   "execution_count": 4,
   "id": "76f8a537",
   "metadata": {},
   "outputs": [
    {
     "name": "stdout",
     "output_type": "stream",
     "text": [
      "PREDICT :  [2]\n"
     ]
    }
   ],
   "source": [
    "import torch\n",
    "import numpy as np\n",
    "from facenet_pytorch import MTCNN, InceptionResnetV1\n",
    "from PIL import Image, ImageDraw\n",
    "import joblib\n",
    "\n",
    "def get_embedding(filename):\n",
    "    img = Image.open(filename)\n",
    "    \n",
    "    img_cropped = mtcnn(img)\n",
    "    \n",
    "    model.classify = True\n",
    "    img_probs = model(img_cropped.unsqueeze(0))\n",
    "    \n",
    "    return img_probs[0].detach().numpy()\n",
    "\n",
    "svc = joblib.load('SVM/svc_face.pkl')\n",
    "device = 'cpu'\n",
    "mtcnn = MTCNN(device=device)\n",
    "model = InceptionResnetV1(pretrained='vggface2').eval()\n",
    "x = get_embedding('data/train/LeeYoungji/test.jpg')\n",
    "# #y = labelData\n",
    "print(\"PREDICT : \", svc.predict([x]))\n"
   ]
  },
  {
   "cell_type": "code",
   "execution_count": null,
   "id": "6609c51b",
   "metadata": {},
   "outputs": [],
   "source": []
  }
 ],
 "metadata": {
  "kernelspec": {
   "display_name": "Python 3",
   "language": "python",
   "name": "python3"
  },
  "language_info": {
   "codemirror_mode": {
    "name": "ipython",
    "version": 3
   },
   "file_extension": ".py",
   "mimetype": "text/x-python",
   "name": "python",
   "nbconvert_exporter": "python",
   "pygments_lexer": "ipython3",
   "version": "3.8.5"
  }
 },
 "nbformat": 4,
 "nbformat_minor": 5
}
